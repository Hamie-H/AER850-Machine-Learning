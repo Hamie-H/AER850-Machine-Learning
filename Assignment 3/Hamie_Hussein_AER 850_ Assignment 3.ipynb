{
 "cells": [
  {
   "cell_type": "code",
   "execution_count": 9,
   "metadata": {
    "collapsed": true
   },
   "outputs": [],
   "source": [
    "import pandas as pd\n",
    "import sys\n",
    "import scipy.io"
   ]
  },
  {
   "cell_type": "code",
   "execution_count": 10,
   "outputs": [],
   "source": [
    "baselineDE = pd.read_excel('/mnt/d/AER 850 Machine Learning/baseline.xlsx',sheet_name=\"Baseline DE\")\n",
    "\n",
    "baseline007DE = pd.read_excel('/mnt/d/AER 850 Machine Learning/baseline.xlsx',sheet_name=\"0.007 DE\")\n",
    "\n",
    "baseline021DE = pd.read_excel('/mnt/d/AER 850 Machine Learning/baseline.xlsx',sheet_name=\"0.021 DE\")"
   ],
   "metadata": {
    "collapsed": false
   }
  },
  {
   "cell_type": "code",
   "execution_count": 11,
   "outputs": [
    {
     "data": {
      "text/plain": "   Baseline 0HP DE X97  Baseline 1HP DE X98  Baseline 2HP DE X99  \\\n0             0.053197             0.145667             0.064254   \n1             0.088662             0.097796             0.063002   \n2             0.099718             0.054856            -0.004381   \n3             0.058621             0.036982            -0.035882   \n4            -0.004590             0.054445            -0.023991   \n\n   Baseline 3HP DE  \n0         0.014603  \n1         0.054449  \n2         0.107646  \n3         0.133722  \n4         0.112652  ",
      "text/html": "<div>\n<style scoped>\n    .dataframe tbody tr th:only-of-type {\n        vertical-align: middle;\n    }\n\n    .dataframe tbody tr th {\n        vertical-align: top;\n    }\n\n    .dataframe thead th {\n        text-align: right;\n    }\n</style>\n<table border=\"1\" class=\"dataframe\">\n  <thead>\n    <tr style=\"text-align: right;\">\n      <th></th>\n      <th>Baseline 0HP DE X97</th>\n      <th>Baseline 1HP DE X98</th>\n      <th>Baseline 2HP DE X99</th>\n      <th>Baseline 3HP DE</th>\n    </tr>\n  </thead>\n  <tbody>\n    <tr>\n      <th>0</th>\n      <td>0.053197</td>\n      <td>0.145667</td>\n      <td>0.064254</td>\n      <td>0.014603</td>\n    </tr>\n    <tr>\n      <th>1</th>\n      <td>0.088662</td>\n      <td>0.097796</td>\n      <td>0.063002</td>\n      <td>0.054449</td>\n    </tr>\n    <tr>\n      <th>2</th>\n      <td>0.099718</td>\n      <td>0.054856</td>\n      <td>-0.004381</td>\n      <td>0.107646</td>\n    </tr>\n    <tr>\n      <th>3</th>\n      <td>0.058621</td>\n      <td>0.036982</td>\n      <td>-0.035882</td>\n      <td>0.133722</td>\n    </tr>\n    <tr>\n      <th>4</th>\n      <td>-0.004590</td>\n      <td>0.054445</td>\n      <td>-0.023991</td>\n      <td>0.112652</td>\n    </tr>\n  </tbody>\n</table>\n</div>"
     },
     "execution_count": 11,
     "metadata": {},
     "output_type": "execute_result"
    }
   ],
   "source": [
    "baselineDE.head()"
   ],
   "metadata": {
    "collapsed": false
   }
  },
  {
   "cell_type": "code",
   "execution_count": 12,
   "outputs": [
    {
     "data": {
      "text/plain": "  Fault       0HP       1HP       2HP       3HP\n0  None  0.053197  0.145667  0.064254  0.014603\n1  None  0.088662  0.097796  0.063002  0.054449\n2  None  0.099718  0.054856 -0.004381  0.107646\n3  None  0.058621  0.036982 -0.035882  0.133722\n4  None -0.004590  0.054445 -0.023991  0.112652",
      "text/html": "<div>\n<style scoped>\n    .dataframe tbody tr th:only-of-type {\n        vertical-align: middle;\n    }\n\n    .dataframe tbody tr th {\n        vertical-align: top;\n    }\n\n    .dataframe thead th {\n        text-align: right;\n    }\n</style>\n<table border=\"1\" class=\"dataframe\">\n  <thead>\n    <tr style=\"text-align: right;\">\n      <th></th>\n      <th>Fault</th>\n      <th>0HP</th>\n      <th>1HP</th>\n      <th>2HP</th>\n      <th>3HP</th>\n    </tr>\n  </thead>\n  <tbody>\n    <tr>\n      <th>0</th>\n      <td>None</td>\n      <td>0.053197</td>\n      <td>0.145667</td>\n      <td>0.064254</td>\n      <td>0.014603</td>\n    </tr>\n    <tr>\n      <th>1</th>\n      <td>None</td>\n      <td>0.088662</td>\n      <td>0.097796</td>\n      <td>0.063002</td>\n      <td>0.054449</td>\n    </tr>\n    <tr>\n      <th>2</th>\n      <td>None</td>\n      <td>0.099718</td>\n      <td>0.054856</td>\n      <td>-0.004381</td>\n      <td>0.107646</td>\n    </tr>\n    <tr>\n      <th>3</th>\n      <td>None</td>\n      <td>0.058621</td>\n      <td>0.036982</td>\n      <td>-0.035882</td>\n      <td>0.133722</td>\n    </tr>\n    <tr>\n      <th>4</th>\n      <td>None</td>\n      <td>-0.004590</td>\n      <td>0.054445</td>\n      <td>-0.023991</td>\n      <td>0.112652</td>\n    </tr>\n  </tbody>\n</table>\n</div>"
     },
     "execution_count": 12,
     "metadata": {},
     "output_type": "execute_result"
    }
   ],
   "source": [
    "baselineDE.insert(0, 'Fault', 'None')\n",
    "baselineDE = baselineDE.rename(columns={'Baseline 0HP DE X97':'0HP','Baseline 1HP DE X98':'1HP','Baseline 2HP DE X99':'2HP','Baseline 3HP DE':'3HP'})\n",
    "baselineDE.head()"
   ],
   "metadata": {
    "collapsed": false
   }
  },
  {
   "cell_type": "code",
   "execution_count": 13,
   "outputs": [
    {
     "data": {
      "text/plain": "                               Fault       0HP       1HP       2HP       3HP\n0  Fault at Inner Raceway (IR) 0.007 -0.083004 -0.277602 -0.093238  0.222699\n1  Fault at Inner Raceway (IR) 0.007 -0.195734 -0.044345  0.187288  0.093238\n2  Fault at Inner Raceway (IR) 0.007  0.233419  0.117603  0.217663 -0.146516\n3  Fault at Inner Raceway (IR) 0.007  0.103958 -0.145055  0.070172  0.177217\n4  Fault at Inner Raceway (IR) 0.007 -0.181115 -0.111430  0.100385  0.248526",
      "text/html": "<div>\n<style scoped>\n    .dataframe tbody tr th:only-of-type {\n        vertical-align: middle;\n    }\n\n    .dataframe tbody tr th {\n        vertical-align: top;\n    }\n\n    .dataframe thead th {\n        text-align: right;\n    }\n</style>\n<table border=\"1\" class=\"dataframe\">\n  <thead>\n    <tr style=\"text-align: right;\">\n      <th></th>\n      <th>Fault</th>\n      <th>0HP</th>\n      <th>1HP</th>\n      <th>2HP</th>\n      <th>3HP</th>\n    </tr>\n  </thead>\n  <tbody>\n    <tr>\n      <th>0</th>\n      <td>Fault at Inner Raceway (IR) 0.007</td>\n      <td>-0.083004</td>\n      <td>-0.277602</td>\n      <td>-0.093238</td>\n      <td>0.222699</td>\n    </tr>\n    <tr>\n      <th>1</th>\n      <td>Fault at Inner Raceway (IR) 0.007</td>\n      <td>-0.195734</td>\n      <td>-0.044345</td>\n      <td>0.187288</td>\n      <td>0.093238</td>\n    </tr>\n    <tr>\n      <th>2</th>\n      <td>Fault at Inner Raceway (IR) 0.007</td>\n      <td>0.233419</td>\n      <td>0.117603</td>\n      <td>0.217663</td>\n      <td>-0.146516</td>\n    </tr>\n    <tr>\n      <th>3</th>\n      <td>Fault at Inner Raceway (IR) 0.007</td>\n      <td>0.103958</td>\n      <td>-0.145055</td>\n      <td>0.070172</td>\n      <td>0.177217</td>\n    </tr>\n    <tr>\n      <th>4</th>\n      <td>Fault at Inner Raceway (IR) 0.007</td>\n      <td>-0.181115</td>\n      <td>-0.111430</td>\n      <td>0.100385</td>\n      <td>0.248526</td>\n    </tr>\n  </tbody>\n</table>\n</div>"
     },
     "execution_count": 13,
     "metadata": {},
     "output_type": "execute_result"
    }
   ],
   "source": [
    "baseline007DE.insert(0,'Fault','Fault at Inner Raceway (IR) 0.007')\n",
    "baseline007DE = baseline007DE.rename(columns={'12K 0.007\" 0HP':'0HP','12K 0.007\" 1HP':'1HP','12K 0.007\" 2HP':'2HP','12K 0.007\" 3HP':'3HP'})\n",
    "baseline007DE.head()"
   ],
   "metadata": {
    "collapsed": false
   }
  },
  {
   "cell_type": "code",
   "execution_count": 14,
   "outputs": [
    {
     "data": {
      "text/plain": "                               Fault       0HP       1HP       2HP       3HP\n0  Fault at Inner Raceway (IR) 0.021  1.189431  0.171369 -0.402027 -0.206293\n1  Fault at Inner Raceway (IR) 0.021 -0.177866  0.117765  0.548219 -0.007310\n2  Fault at Inner Raceway (IR) 0.021 -0.774816 -0.097055  0.931565  0.222536\n3  Fault at Inner Raceway (IR) 0.021  0.501518  0.009746 -0.218881 -0.005685\n4  Fault at Inner Raceway (IR) 0.021  0.993697  0.060913 -1.079788  0.031675",
      "text/html": "<div>\n<style scoped>\n    .dataframe tbody tr th:only-of-type {\n        vertical-align: middle;\n    }\n\n    .dataframe tbody tr th {\n        vertical-align: top;\n    }\n\n    .dataframe thead th {\n        text-align: right;\n    }\n</style>\n<table border=\"1\" class=\"dataframe\">\n  <thead>\n    <tr style=\"text-align: right;\">\n      <th></th>\n      <th>Fault</th>\n      <th>0HP</th>\n      <th>1HP</th>\n      <th>2HP</th>\n      <th>3HP</th>\n    </tr>\n  </thead>\n  <tbody>\n    <tr>\n      <th>0</th>\n      <td>Fault at Inner Raceway (IR) 0.021</td>\n      <td>1.189431</td>\n      <td>0.171369</td>\n      <td>-0.402027</td>\n      <td>-0.206293</td>\n    </tr>\n    <tr>\n      <th>1</th>\n      <td>Fault at Inner Raceway (IR) 0.021</td>\n      <td>-0.177866</td>\n      <td>0.117765</td>\n      <td>0.548219</td>\n      <td>-0.007310</td>\n    </tr>\n    <tr>\n      <th>2</th>\n      <td>Fault at Inner Raceway (IR) 0.021</td>\n      <td>-0.774816</td>\n      <td>-0.097055</td>\n      <td>0.931565</td>\n      <td>0.222536</td>\n    </tr>\n    <tr>\n      <th>3</th>\n      <td>Fault at Inner Raceway (IR) 0.021</td>\n      <td>0.501518</td>\n      <td>0.009746</td>\n      <td>-0.218881</td>\n      <td>-0.005685</td>\n    </tr>\n    <tr>\n      <th>4</th>\n      <td>Fault at Inner Raceway (IR) 0.021</td>\n      <td>0.993697</td>\n      <td>0.060913</td>\n      <td>-1.079788</td>\n      <td>0.031675</td>\n    </tr>\n  </tbody>\n</table>\n</div>"
     },
     "execution_count": 14,
     "metadata": {},
     "output_type": "execute_result"
    }
   ],
   "source": [
    "baseline021DE.insert(0,'Fault','Fault at Inner Raceway (IR) 0.021')\n",
    "baseline021DE = baseline021DE.rename(columns={'12K 0.021\" 0HP':'0HP','12K 0.021\" 1HP':'1HP','12K 0.021\" 2HP':'2HP','12K 0.021\" 3HP':'3HP'})\n",
    "baseline021DE.head()"
   ],
   "metadata": {
    "collapsed": false
   }
  },
  {
   "cell_type": "code",
   "execution_count": 20,
   "outputs": [],
   "source": [
    "faultdata = pd.concat([baselineDE,baseline007DE,baseline021DE])\n",
    "faultdata.head()"
   ],
   "metadata": {
    "collapsed": false
   }
  },
  {
   "cell_type": "code",
   "execution_count": 21,
   "outputs": [],
   "source": [
    "faultdatashuffled = faultdata.sample(frac=1,random_state = 42)\n",
    "faultdatashuffled.head()"
   ],
   "metadata": {
    "collapsed": false
   }
  },
  {
   "cell_type": "code",
   "execution_count": null,
   "outputs": [],
   "source": [],
   "metadata": {
    "collapsed": false
   }
  }
 ],
 "metadata": {
  "kernelspec": {
   "display_name": "Python 3",
   "language": "python",
   "name": "python3"
  },
  "language_info": {
   "codemirror_mode": {
    "name": "ipython",
    "version": 2
   },
   "file_extension": ".py",
   "mimetype": "text/x-python",
   "name": "python",
   "nbconvert_exporter": "python",
   "pygments_lexer": "ipython2",
   "version": "2.7.6"
  }
 },
 "nbformat": 4,
 "nbformat_minor": 0
}
