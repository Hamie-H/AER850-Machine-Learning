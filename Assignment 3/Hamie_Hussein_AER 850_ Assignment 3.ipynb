{
 "cells": [
  {
   "cell_type": "markdown",
   "source": [
    "Hussein Hamie\n",
    "500876254\n",
    "AER 850 Machine Learning\n",
    "Assignment 3"
   ],
   "metadata": {
    "collapsed": false
   }
  },
  {
   "cell_type": "markdown",
   "source": [
    "# Importing Libraries"
   ],
   "metadata": {
    "collapsed": false
   }
  },
  {
   "cell_type": "code",
   "execution_count": null,
   "metadata": {
    "collapsed": true,
    "pycharm": {
     "is_executing": true
    }
   },
   "outputs": [],
   "source": [
    "import pandas as pd\n",
    "import sys\n",
    "import scipy.io\n",
    "import matplotlib.pyplot as plt\n",
    "import tensorflow as tf\n",
    "import seaborn\n",
    "import numpy as np\n",
    "import sklearn\n",
    "from tensorflow import keras\n",
    "from tensorflow.keras import layers\n",
    "from sklearn.model_selection import train_test_split\n",
    "np.set_printoptions(threshold=sys.maxsize)\n",
    "tf.config.experimental.enable_tensor_float_32_execution(False)"
   ]
  },
  {
   "cell_type": "markdown",
   "source": [
    "# Loading in Data"
   ],
   "metadata": {
    "collapsed": false
   }
  },
  {
   "cell_type": "code",
   "execution_count": null,
   "outputs": [],
   "source": [
    "baselineDE = pd.read_excel('/mnt/d/AER 850 Machine Learning/baseline.xlsx',sheet_name=\"Baseline DE\")\n",
    "\n",
    "baseline007DE = pd.read_excel('/mnt/d/AER 850 Machine Learning/baseline.xlsx',sheet_name=\"0.007 DE\")\n",
    "\n",
    "baseline021DE = pd.read_excel('/mnt/d/AER 850 Machine Learning/baseline.xlsx',sheet_name=\"0.021 DE\")"
   ],
   "metadata": {
    "collapsed": false,
    "pycharm": {
     "is_executing": true
    }
   }
  },
  {
   "cell_type": "code",
   "execution_count": null,
   "outputs": [],
   "source": [
    "baselineDE.head()"
   ],
   "metadata": {
    "collapsed": false,
    "pycharm": {
     "is_executing": true
    }
   }
  },
  {
   "cell_type": "code",
   "execution_count": null,
   "outputs": [],
   "source": [
    "baselineDE.insert(0, 'Fault', 0)\n",
    "baselineDE = baselineDE.rename(columns={'Baseline 0HP DE X97':'0HP','Baseline 1HP DE X98':'1HP','Baseline 2HP DE X99':'2HP','Baseline 3HP DE':'3HP'})\n",
    "baselineDE.head()"
   ],
   "metadata": {
    "collapsed": false,
    "pycharm": {
     "is_executing": true
    }
   }
  },
  {
   "cell_type": "code",
   "execution_count": 5,
   "outputs": [
    {
     "data": {
      "text/plain": "   Fault       0HP       1HP       2HP       3HP\n0      1 -0.083004 -0.277602 -0.093238  0.222699\n1      1 -0.195734 -0.044345  0.187288  0.093238\n2      1  0.233419  0.117603  0.217663 -0.146516\n3      1  0.103958 -0.145055  0.070172  0.177217\n4      1 -0.181115 -0.111430  0.100385  0.248526",
      "text/html": "<div>\n<style scoped>\n    .dataframe tbody tr th:only-of-type {\n        vertical-align: middle;\n    }\n\n    .dataframe tbody tr th {\n        vertical-align: top;\n    }\n\n    .dataframe thead th {\n        text-align: right;\n    }\n</style>\n<table border=\"1\" class=\"dataframe\">\n  <thead>\n    <tr style=\"text-align: right;\">\n      <th></th>\n      <th>Fault</th>\n      <th>0HP</th>\n      <th>1HP</th>\n      <th>2HP</th>\n      <th>3HP</th>\n    </tr>\n  </thead>\n  <tbody>\n    <tr>\n      <th>0</th>\n      <td>1</td>\n      <td>-0.083004</td>\n      <td>-0.277602</td>\n      <td>-0.093238</td>\n      <td>0.222699</td>\n    </tr>\n    <tr>\n      <th>1</th>\n      <td>1</td>\n      <td>-0.195734</td>\n      <td>-0.044345</td>\n      <td>0.187288</td>\n      <td>0.093238</td>\n    </tr>\n    <tr>\n      <th>2</th>\n      <td>1</td>\n      <td>0.233419</td>\n      <td>0.117603</td>\n      <td>0.217663</td>\n      <td>-0.146516</td>\n    </tr>\n    <tr>\n      <th>3</th>\n      <td>1</td>\n      <td>0.103958</td>\n      <td>-0.145055</td>\n      <td>0.070172</td>\n      <td>0.177217</td>\n    </tr>\n    <tr>\n      <th>4</th>\n      <td>1</td>\n      <td>-0.181115</td>\n      <td>-0.111430</td>\n      <td>0.100385</td>\n      <td>0.248526</td>\n    </tr>\n  </tbody>\n</table>\n</div>"
     },
     "execution_count": 5,
     "metadata": {},
     "output_type": "execute_result"
    }
   ],
   "source": [
    "baseline007DE.insert(0,'Fault',1)\n",
    "baseline007DE = baseline007DE.rename(columns={'12K 0.007\" 0HP':'0HP','12K 0.007\" 1HP':'1HP','12K 0.007\" 2HP':'2HP','12K 0.007\" 3HP':'3HP'})\n",
    "baseline007DE.head()"
   ],
   "metadata": {
    "collapsed": false
   }
  },
  {
   "cell_type": "code",
   "execution_count": 6,
   "outputs": [
    {
     "data": {
      "text/plain": "   Fault       0HP       1HP       2HP       3HP\n0      1  1.189431  0.171369 -0.402027 -0.206293\n1      1 -0.177866  0.117765  0.548219 -0.007310\n2      1 -0.774816 -0.097055  0.931565  0.222536\n3      1  0.501518  0.009746 -0.218881 -0.005685\n4      1  0.993697  0.060913 -1.079788  0.031675",
      "text/html": "<div>\n<style scoped>\n    .dataframe tbody tr th:only-of-type {\n        vertical-align: middle;\n    }\n\n    .dataframe tbody tr th {\n        vertical-align: top;\n    }\n\n    .dataframe thead th {\n        text-align: right;\n    }\n</style>\n<table border=\"1\" class=\"dataframe\">\n  <thead>\n    <tr style=\"text-align: right;\">\n      <th></th>\n      <th>Fault</th>\n      <th>0HP</th>\n      <th>1HP</th>\n      <th>2HP</th>\n      <th>3HP</th>\n    </tr>\n  </thead>\n  <tbody>\n    <tr>\n      <th>0</th>\n      <td>1</td>\n      <td>1.189431</td>\n      <td>0.171369</td>\n      <td>-0.402027</td>\n      <td>-0.206293</td>\n    </tr>\n    <tr>\n      <th>1</th>\n      <td>1</td>\n      <td>-0.177866</td>\n      <td>0.117765</td>\n      <td>0.548219</td>\n      <td>-0.007310</td>\n    </tr>\n    <tr>\n      <th>2</th>\n      <td>1</td>\n      <td>-0.774816</td>\n      <td>-0.097055</td>\n      <td>0.931565</td>\n      <td>0.222536</td>\n    </tr>\n    <tr>\n      <th>3</th>\n      <td>1</td>\n      <td>0.501518</td>\n      <td>0.009746</td>\n      <td>-0.218881</td>\n      <td>-0.005685</td>\n    </tr>\n    <tr>\n      <th>4</th>\n      <td>1</td>\n      <td>0.993697</td>\n      <td>0.060913</td>\n      <td>-1.079788</td>\n      <td>0.031675</td>\n    </tr>\n  </tbody>\n</table>\n</div>"
     },
     "execution_count": 6,
     "metadata": {},
     "output_type": "execute_result"
    }
   ],
   "source": [
    "baseline021DE.insert(0,'Fault',1)\n",
    "baseline021DE = baseline021DE.rename(columns={'12K 0.021\" 0HP':'0HP','12K 0.021\" 1HP':'1HP','12K 0.021\" 2HP':'2HP','12K 0.021\" 3HP':'3HP'})\n",
    "baseline021DE.head()"
   ],
   "metadata": {
    "collapsed": false
   }
  },
  {
   "cell_type": "code",
   "execution_count": 7,
   "outputs": [
    {
     "data": {
      "text/plain": "   Fault       0HP       1HP       2HP       3HP\n0      0  0.053197  0.145667  0.064254  0.014603\n1      0  0.088662  0.097796  0.063002  0.054449\n2      0  0.099718  0.054856 -0.004381  0.107646\n3      0  0.058621  0.036982 -0.035882  0.133722\n4      0 -0.004590  0.054445 -0.023991  0.112652",
      "text/html": "<div>\n<style scoped>\n    .dataframe tbody tr th:only-of-type {\n        vertical-align: middle;\n    }\n\n    .dataframe tbody tr th {\n        vertical-align: top;\n    }\n\n    .dataframe thead th {\n        text-align: right;\n    }\n</style>\n<table border=\"1\" class=\"dataframe\">\n  <thead>\n    <tr style=\"text-align: right;\">\n      <th></th>\n      <th>Fault</th>\n      <th>0HP</th>\n      <th>1HP</th>\n      <th>2HP</th>\n      <th>3HP</th>\n    </tr>\n  </thead>\n  <tbody>\n    <tr>\n      <th>0</th>\n      <td>0</td>\n      <td>0.053197</td>\n      <td>0.145667</td>\n      <td>0.064254</td>\n      <td>0.014603</td>\n    </tr>\n    <tr>\n      <th>1</th>\n      <td>0</td>\n      <td>0.088662</td>\n      <td>0.097796</td>\n      <td>0.063002</td>\n      <td>0.054449</td>\n    </tr>\n    <tr>\n      <th>2</th>\n      <td>0</td>\n      <td>0.099718</td>\n      <td>0.054856</td>\n      <td>-0.004381</td>\n      <td>0.107646</td>\n    </tr>\n    <tr>\n      <th>3</th>\n      <td>0</td>\n      <td>0.058621</td>\n      <td>0.036982</td>\n      <td>-0.035882</td>\n      <td>0.133722</td>\n    </tr>\n    <tr>\n      <th>4</th>\n      <td>0</td>\n      <td>-0.004590</td>\n      <td>0.054445</td>\n      <td>-0.023991</td>\n      <td>0.112652</td>\n    </tr>\n  </tbody>\n</table>\n</div>"
     },
     "execution_count": 7,
     "metadata": {},
     "output_type": "execute_result"
    }
   ],
   "source": [
    "faultdata = pd.concat([baselineDE,baseline007DE,baseline021DE])\n",
    "faultdata.head()"
   ],
   "metadata": {
    "collapsed": false
   }
  },
  {
   "cell_type": "code",
   "execution_count": 8,
   "outputs": [
    {
     "data": {
      "text/plain": "        Fault       0HP       1HP       2HP       3HP\n119391      1  0.053604 -0.040203 -0.719994  0.049543\n195186      0  0.005424  0.074991  0.117242 -0.029415\n41740       1 -0.099085 -0.136608  0.027289  0.029076\n155158      0 -0.048607 -0.028558 -0.045895 -0.136434\n102538      0  0.001043 -0.000411  0.017315  0.046313",
      "text/html": "<div>\n<style scoped>\n    .dataframe tbody tr th:only-of-type {\n        vertical-align: middle;\n    }\n\n    .dataframe tbody tr th {\n        vertical-align: top;\n    }\n\n    .dataframe thead th {\n        text-align: right;\n    }\n</style>\n<table border=\"1\" class=\"dataframe\">\n  <thead>\n    <tr style=\"text-align: right;\">\n      <th></th>\n      <th>Fault</th>\n      <th>0HP</th>\n      <th>1HP</th>\n      <th>2HP</th>\n      <th>3HP</th>\n    </tr>\n  </thead>\n  <tbody>\n    <tr>\n      <th>119391</th>\n      <td>1</td>\n      <td>0.053604</td>\n      <td>-0.040203</td>\n      <td>-0.719994</td>\n      <td>0.049543</td>\n    </tr>\n    <tr>\n      <th>195186</th>\n      <td>0</td>\n      <td>0.005424</td>\n      <td>0.074991</td>\n      <td>0.117242</td>\n      <td>-0.029415</td>\n    </tr>\n    <tr>\n      <th>41740</th>\n      <td>1</td>\n      <td>-0.099085</td>\n      <td>-0.136608</td>\n      <td>0.027289</td>\n      <td>0.029076</td>\n    </tr>\n    <tr>\n      <th>155158</th>\n      <td>0</td>\n      <td>-0.048607</td>\n      <td>-0.028558</td>\n      <td>-0.045895</td>\n      <td>-0.136434</td>\n    </tr>\n    <tr>\n      <th>102538</th>\n      <td>0</td>\n      <td>0.001043</td>\n      <td>-0.000411</td>\n      <td>0.017315</td>\n      <td>0.046313</td>\n    </tr>\n  </tbody>\n</table>\n</div>"
     },
     "execution_count": 8,
     "metadata": {},
     "output_type": "execute_result"
    }
   ],
   "source": [
    "faultdatashuffled = faultdata.sample(frac=1,random_state = 42)\n",
    "faultdatashuffled.head()"
   ],
   "metadata": {
    "collapsed": false
   }
  },
  {
   "cell_type": "code",
   "execution_count": 9,
   "outputs": [],
   "source": [
    "def plot_columns(dataframe_cols):\n",
    "    fig, axes = plt.subplots(nrows=3, ncols=4, figsize=(16, 9), sharey=True)\n",
    "    colors = plt.cm.get_cmap('Set1', len(axes[0]))\n",
    "    for i, ax in enumerate(axes.flatten()):\n",
    "        if i < len(dataframe_cols):\n",
    "            col = dataframe_cols[i]\n",
    "            ax.scatter(col.index, col.values, s=0.05, color=colors(i % len(axes[0])))\n",
    "            ax.set_title(col.name)\n",
    "        else:\n",
    "            ax.set_visible(False)\n",
    "    for i, ax in enumerate(axes[:, 0]):\n",
    "        if i == 0:\n",
    "            ax.set_ylabel('normal', rotation=0, fontsize='large', labelpad=40)\n",
    "        elif i == 1:\n",
    "            ax.set_ylabel('0.0071 fault', rotation=0, fontsize='large', labelpad=40)\n",
    "        elif i == 2:\n",
    "            ax.set_ylabel('0.021 fault', rotation=0, fontsize='large', labelpad=40)\n",
    "    plt.tight_layout()\n",
    "    plt.show()"
   ],
   "metadata": {
    "collapsed": false
   }
  },
  {
   "cell_type": "code",
   "execution_count": 2,
   "outputs": [
    {
     "ename": "NameError",
     "evalue": "name 'baselineDE' is not defined",
     "output_type": "error",
     "traceback": [
      "\u001B[0;31m---------------------------------------------------------------------------\u001B[0m",
      "\u001B[0;31mNameError\u001B[0m                                 Traceback (most recent call last)",
      "Cell \u001B[0;32mIn[2], line 1\u001B[0m\n\u001B[0;32m----> 1\u001B[0m listsofdatas\u001B[38;5;241m=\u001B[39m [\u001B[43mbaselineDE\u001B[49m[\u001B[38;5;124m'\u001B[39m\u001B[38;5;124m0HP\u001B[39m\u001B[38;5;124m'\u001B[39m],baselineDE[\u001B[38;5;124m'\u001B[39m\u001B[38;5;124m1HP\u001B[39m\u001B[38;5;124m'\u001B[39m],baselineDE[\u001B[38;5;124m'\u001B[39m\u001B[38;5;124m2HP\u001B[39m\u001B[38;5;124m'\u001B[39m],baselineDE[\u001B[38;5;124m'\u001B[39m\u001B[38;5;124m3HP\u001B[39m\u001B[38;5;124m'\u001B[39m],baseline007DE[\u001B[38;5;124m'\u001B[39m\u001B[38;5;124m0HP\u001B[39m\u001B[38;5;124m'\u001B[39m],baseline007DE[\u001B[38;5;124m'\u001B[39m\u001B[38;5;124m1HP\u001B[39m\u001B[38;5;124m'\u001B[39m],baseline007DE[\u001B[38;5;124m'\u001B[39m\u001B[38;5;124m2HP\u001B[39m\u001B[38;5;124m'\u001B[39m],baseline007DE[\u001B[38;5;124m'\u001B[39m\u001B[38;5;124m3HP\u001B[39m\u001B[38;5;124m'\u001B[39m],baseline021DE[\u001B[38;5;124m'\u001B[39m\u001B[38;5;124m0HP\u001B[39m\u001B[38;5;124m'\u001B[39m],baseline021DE[\u001B[38;5;124m'\u001B[39m\u001B[38;5;124m1HP\u001B[39m\u001B[38;5;124m'\u001B[39m],baseline021DE[\u001B[38;5;124m'\u001B[39m\u001B[38;5;124m2HP\u001B[39m\u001B[38;5;124m'\u001B[39m],baseline021DE[\u001B[38;5;124m'\u001B[39m\u001B[38;5;124m3HP\u001B[39m\u001B[38;5;124m'\u001B[39m]]\n\u001B[1;32m      2\u001B[0m plot_columns(listsofdatas)\n",
      "\u001B[0;31mNameError\u001B[0m: name 'baselineDE' is not defined"
     ]
    }
   ],
   "source": [
    "listsofdatas= [baselineDE['0HP'],baselineDE['1HP'],baselineDE['2HP'],baselineDE['3HP'],baseline007DE['0HP'],baseline007DE['1HP'],baseline007DE['2HP'],baseline007DE['3HP'],baseline021DE['0HP'],baseline021DE['1HP'],baseline021DE['2HP'],baseline021DE['3HP']]\n",
    "plot_columns(listsofdatas)"
   ],
   "metadata": {
    "collapsed": false
   }
  },
  {
   "cell_type": "code",
   "execution_count": null,
   "outputs": [],
   "source": [
    "def transpose_and_add_fault_column(df,fault):\n",
    "    # drop 'Fault' column (if it exists)\n",
    "    if 'Fault' in df.columns:\n",
    "        df = df.drop(columns=['Fault'])\n",
    "\n",
    "    # transpose DataFrame\n",
    "    df = pd.DataFrame(df.values.T, index=df.columns, columns=df.index)\n",
    "\n",
    "    # add 'Fault' column with all values set to the fault\n",
    "    # df.insert(0, 'Fault', fault)\n",
    "\n",
    "    # return the modified DataFrame\n",
    "    return df"
   ],
   "metadata": {
    "collapsed": false,
    "pycharm": {
     "is_executing": true
    }
   }
  },
  {
   "cell_type": "code",
   "execution_count": null,
   "outputs": [],
   "source": [
    "trans_baselineDE=transpose_and_add_fault_column(baselineDE,0)\n",
    "trans_baseline021DE=transpose_and_add_fault_column(baseline021DE,1)\n",
    "trans_baseline007DE=transpose_and_add_fault_column(baseline007DE,1)"
   ],
   "metadata": {
    "collapsed": false,
    "pycharm": {
     "is_executing": true
    }
   }
  },
  {
   "cell_type": "code",
   "execution_count": null,
   "outputs": [],
   "source": [
    "trans_baseline021DE\n"
   ],
   "metadata": {
    "collapsed": false,
    "pycharm": {
     "is_executing": true
    }
   }
  },
  {
   "cell_type": "code",
   "execution_count": null,
   "outputs": [],
   "source": [
    "df_transposed = trans_baselineDE.T\n",
    "df_transposed"
   ],
   "metadata": {
    "collapsed": false,
    "pycharm": {
     "is_executing": true
    }
   }
  },
  {
   "cell_type": "code",
   "execution_count": null,
   "outputs": [],
   "source": [
    "chunk_size = 10\n",
    "\n",
    "if len(df_transposed) >= chunk_size:\n",
    "    # Split the data frame into equal chunks using numpy.array_split()\n",
    "    df_chunks = np.array_split(df_transposed, len(df_transposed) // chunk_size, axis=0)\n",
    "\n",
    "    # Concatenate the chunks into a new data frame with new columns\n",
    "    new_df = pd.concat(df_chunks, axis=1)\n",
    "\n",
    "    # Print the new data frame\n",
    "    print(new_df)"
   ],
   "metadata": {
    "collapsed": false,
    "pycharm": {
     "is_executing": true
    }
   }
  },
  {
   "cell_type": "code",
   "execution_count": null,
   "outputs": [],
   "source": [
    "df = pd.concat([trans_baselineDE, trans_baseline007DE, trans_baseline021DE],axis=0)\n",
    "df"
   ],
   "metadata": {
    "collapsed": false,
    "pycharm": {
     "is_executing": true
    }
   }
  },
  {
   "cell_type": "code",
   "execution_count": null,
   "outputs": [],
   "source": [
    "mask = df.isna()\n",
    "first_nan_index = mask.any(axis=0).idxmax()\n",
    "print(first_nan_index)"
   ],
   "metadata": {
    "collapsed": false,
    "pycharm": {
     "is_executing": true
    }
   }
  },
  {
   "cell_type": "code",
   "execution_count": null,
   "outputs": [],
   "source": [
    "data=df\n",
    "data"
   ],
   "metadata": {
    "collapsed": false,
    "pycharm": {
     "is_executing": true
    }
   }
  },
  {
   "cell_type": "markdown",
   "source": [
    "Now the NAN's are removed we can break the data into smaller 1000 chunks this way we can do a train test split with more than the 12 tests we have. This is possible because the data is relatively uniform over the course of time in each test\n"
   ],
   "metadata": {
    "collapsed": false
   }
  },
  {
   "cell_type": "code",
   "execution_count": null,
   "outputs": [],
   "source": [],
   "metadata": {
    "collapsed": false,
    "pycharm": {
     "is_executing": true
    }
   }
  },
  {
   "cell_type": "code",
   "execution_count": null,
   "outputs": [],
   "source": [
    "X_train, X_test, y_train, y_test = train_test_split(X, y, test_size=0.5, random_state=42)\n",
    "X_train, X_validation, y_train, y_validation = train_test_split(X_train, y_train, test_size=0.2, random_state=42)\n",
    "len(X_train)\n"
   ],
   "metadata": {
    "collapsed": false,
    "pycharm": {
     "is_executing": true
    }
   }
  },
  {
   "cell_type": "code",
   "execution_count": null,
   "outputs": [],
   "source": [
    "X_train"
   ],
   "metadata": {
    "collapsed": false,
    "pycharm": {
     "is_executing": true
    }
   }
  },
  {
   "cell_type": "code",
   "execution_count": null,
   "outputs": [],
   "source": [
    "tf.config.experimental.enable_tensor_float_32_execution(False)\n",
    "model = tf.keras.Sequential([\n",
    "    tf.keras.layers.Dense(16, activation='relu'),\n",
    "    tf.keras.layers.Dense(16, activation='relu'),\n",
    "    tf.keras.layers.Dense(1, activation='sigmoid')\n",
    "])\n",
    "model.compile(optimizer='adam', loss='binary_crossentropy', metrics=['accuracy'])\n"
   ],
   "metadata": {
    "collapsed": false,
    "pycharm": {
     "is_executing": true
    }
   }
  },
  {
   "cell_type": "code",
   "execution_count": null,
   "outputs": [],
   "source": [
    "model.evaluate(X_test, y_test)"
   ],
   "metadata": {
    "collapsed": false,
    "pycharm": {
     "is_executing": true
    }
   }
  },
  {
   "cell_type": "code",
   "execution_count": null,
   "outputs": [],
   "source": [],
   "metadata": {
    "collapsed": false,
    "pycharm": {
     "is_executing": true
    }
   }
  }
 ],
 "metadata": {
  "kernelspec": {
   "display_name": "Python 3",
   "language": "python",
   "name": "python3"
  },
  "language_info": {
   "codemirror_mode": {
    "name": "ipython",
    "version": 2
   },
   "file_extension": ".py",
   "mimetype": "text/x-python",
   "name": "python",
   "nbconvert_exporter": "python",
   "pygments_lexer": "ipython2",
   "version": "2.7.6"
  }
 },
 "nbformat": 4,
 "nbformat_minor": 0
}
