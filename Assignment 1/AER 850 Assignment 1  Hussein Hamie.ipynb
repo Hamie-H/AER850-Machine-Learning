{
 "cells": [
  {
   "cell_type": "code",
   "execution_count": 1,
   "metadata": {
    "collapsed": true
   },
   "outputs": [],
   "source": [
    "# Importing of libraries\n",
    "import numpy as np\n",
    "import csv\n",
    "import matplotlib.pyplot as plt"
   ]
  },
  {
   "cell_type": "code",
   "execution_count": 2,
   "outputs": [],
   "source": [
    "# Function used toi import datasets. The function saves X and Y Columns as Numpy arrays and reshapes them in 2D form.\n",
    "\n",
    "def getdata(filename):\n",
    "    with open (filename,'r') as csvfile:\n",
    "        Dataset_1_test = csv.reader(csvfile)\n",
    "        X = []\n",
    "        Y = []\n",
    "        for row in Dataset_1_test:\n",
    "            x = row[0]\n",
    "            y = row[1]\n",
    "            X.append(x)\n",
    "            Y.append(y)\n",
    "\n",
    "    X = np.array(X).astype(np.float32)\n",
    "    Y = np.array(Y).astype(np.float32)\n",
    "    # convert rank 1 array to rank 2 array\n",
    "    X = np.reshape(X, (-1, 1))\n",
    "    Y = np.reshape(Y, (-1, 1))\n",
    "    return X , Y"
   ],
   "metadata": {
    "collapsed": false
   }
  },
  {
   "cell_type": "code",
   "execution_count": 3,
   "outputs": [],
   "source": [
    "#Importing all datasets using get data function and assigning X and Y respectively\n",
    "X_test, Y_test = getdata(\"Dataset1/Dataset_1_test.csv\")\n",
    "X_train, Y_train = getdata(\"Dataset1/Dataset_1_train.csv\")\n",
    "X_valid, Y_valid = getdata(\"Dataset1/Dataset_1_valid.csv\")"
   ],
   "metadata": {
    "collapsed": false
   }
  },
  {
   "cell_type": "code",
   "execution_count": 6,
   "outputs": [
    {
     "data": {
      "text/plain": "<Figure size 432x288 with 1 Axes>",
      "image/png": "[encoded data removed]"
     },
     "metadata": {
      "needs_background": "light"
     },
     "output_type": "display_data"
    },
    {
     "data": {
      "text/plain": "<Figure size 432x288 with 1 Axes>",
      "image/png": "[encoded data removed]"
     },
     "metadata": {
      "needs_background": "light"
     },
     "output_type": "display_data"
    },
    {
     "data": {
      "text/plain": "<Figure size 432x288 with 1 Axes>",
      "image/png": "[encoded data removed]"
     },
     "metadata": {
      "needs_background": "light"
     },
     "output_type": "display_data"
    }
   ],
   "source": [
    "#Visualizing the data using matplot Scatter plots. We need to fit a curve to the initial training plot\n",
    "plt.scatter(X_train,Y_train)\n",
    "plt.title(\"Train Dataset\")\n",
    "plt.show()\n",
    "\n",
    "plt.scatter(X_test,Y_test)\n",
    "plt.title(\"Test Dataset\")\n",
    "plt.show()\n",
    "\n",
    "plt.scatter(X_valid,Y_valid)\n",
    "plt.title(\"Validation Dataset\")\n",
    "plt.show()"
   ],
   "metadata": {
    "collapsed": false
   }
  },
  {
   "cell_type": "code",
   "execution_count": 7,
   "outputs": [],
   "source": [
    "def getfeaturematrix (X,polynomial):\n",
    "    Xm = []\n",
    "    for i in range(0,polynomial+1):\n",
    "        a = np.power(X,i)\n",
    "        Xm.append(a)\n",
    "    Xm = np.array(Xm)\n",
    "    Xm = np.squeeze(Xm, axis=(2,)).T\n",
    "    return Xm"
   ],
   "metadata": {
    "collapsed": false
   }
  },
  {
   "cell_type": "code",
   "execution_count": 9,
   "outputs": [
    {
     "name": "stdout",
     "output_type": "stream",
     "text": [
      "[[ 1.00000000e+00  5.16219676e-01  2.66482741e-01 ...  6.77675780e-06\n",
      "   3.49829565e-06  1.80588904e-06]\n",
      " [ 1.00000000e+00  8.50084543e-01  7.22643733e-01 ...  5.37425354e-02\n",
      "   4.56856973e-02  3.88367064e-02]\n",
      " [ 1.00000000e+00 -8.40628505e-01  7.06656277e-01 ...  4.39414121e-02\n",
      "  -3.69384028e-02  3.10514756e-02]\n",
      " ...\n",
      " [ 1.00000000e+00 -4.09602165e-01  1.67773932e-01 ...  1.05322314e-07\n",
      "  -4.31402469e-08  1.76703381e-08]\n",
      " [ 1.00000000e+00  7.59964645e-01  5.77546239e-01 ...  7.14958785e-03\n",
      "   5.43343369e-03  4.12921747e-03]\n",
      " [ 1.00000000e+00 -9.96608555e-01  9.93228614e-01 ...  9.40682352e-01\n",
      "  -9.37492073e-01  9.34312642e-01]]\n"
     ]
    }
   ],
   "source": [
    "Xm_train = getfeaturematrix (X_train,20)\n",
    "feature_no = Xm_train.shape[1]\n"
   ],
   "metadata": {
    "collapsed": false
   }
  },
  {
   "cell_type": "code",
   "execution_count": 10,
   "outputs": [],
   "source": [
    "def computeMSE (Hypothesis,Y):\n",
    "    #Y is the target value\n",
    "    # Hypothesis is the suggested value we are fitting\n",
    "    MSE = np.mean((Hypothesis-Y)**2)\n",
    "    return MSE"
   ],
   "metadata": {
    "collapsed": false
   }
  },
  {
   "cell_type": "code",
   "execution_count": 11,
   "outputs": [],
   "source": [
    "# Calulating gradient of loss w.r.t parameters(weights and bias).\n",
    "def gradients(X, y, y_hat):\n",
    "\n",
    "    # X --> Input.\n",
    "    # y --> true/target value.\n",
    "    # y_hat --> hypothesis\n",
    "    # w --> weights (parameter).\n",
    "    # b --> bias (parameter).\n",
    "\n",
    "    # m-> number of training examples.\n",
    "    m = X.shape[0]\n",
    "\n",
    "    # Gradient of loss w.r.t weights.\n",
    "    dw = (1/m)*np.dot(X.T, (y_hat - y))\n",
    "\n",
    "    # Gradient of loss w.r.t bias.\n",
    "    db = (1/m)*np.sum((y_hat - y))\n",
    "\n",
    "    return dw, db"
   ],
   "metadata": {
    "collapsed": false
   }
  },
  {
   "cell_type": "code",
   "execution_count": 19,
   "outputs": [],
   "source": [
    "def x_transform(X, degrees):\n",
    "\n",
    "    # X --> Input.\n",
    "    # degrees --> A list, We add X^(value) feature to the input\n",
    "    #             where value is one of the values in the list.\n",
    "\n",
    "    # making a copy of X.\n",
    "    t = X.copy()\n",
    "\n",
    "    # Appending columns of higher degrees to X.\n",
    "    for i in degrees:\n",
    "        X = np.append(X, t**i, axis=1)\n",
    "\n",
    "    return X"
   ],
   "metadata": {
    "collapsed": false
   }
  },
  {
   "cell_type": "code",
   "execution_count": 23,
   "outputs": [],
   "source": [
    "def train(X, y, bs, degrees, epochs, lr):\n",
    "\n",
    "    # X --> Input.\n",
    "    # y --> true/target value.\n",
    "    # bs --> Batch Size.\n",
    "    # epochs --> Number of iterations.\n",
    "    # degrees --> A list, We add X^(value) feature to the input\n",
    "    #             where value is one of the values in the list.\n",
    "    # lr --> Learning rate.\n",
    "\n",
    "    # Adding features to input X.\n",
    "    x = x_transform(X, degrees)\n",
    "\n",
    "    # m-> number of training examples\n",
    "    # n-> number of features\n",
    "    m, n = x.shape\n",
    "\n",
    "    # Initializing weights and bias to zeros.\n",
    "    w = np.zeros((n,1))\n",
    "    b = 0\n",
    "\n",
    "    # Reshaping y.\n",
    "    y = y.reshape(m,1)\n",
    "\n",
    "    # Empty list to store losses.\n",
    "    losses = []\n",
    "\n",
    "    # Training loop.\n",
    "    for epoch in range(epochs):\n",
    "        for i in range((m-1)//bs + 1):\n",
    "\n",
    "            # Defining batches.\n",
    "            start_i = i*bs\n",
    "            end_i = start_i + bs\n",
    "            xb = x[start_i:end_i]\n",
    "            yb = y[start_i:end_i]\n",
    "\n",
    "            # Calculating hypothesis\n",
    "            y_hat = np.dot(xb, w) + b\n",
    "\n",
    "            # Getting the gradients of loss w.r.t parameters.\n",
    "            dw, db = gradients(xb, yb, y_hat)\n",
    "\n",
    "            # Updating the parameters.\n",
    "            w -= lr*dw\n",
    "            b -= lr*db\n",
    "\n",
    "        # Calculating loss and appending it in the list.\n",
    "        l = computeMSE(y, np.dot(x, w) + b)\n",
    "        losses.append(l)\n",
    "\n",
    "    # returning weights, bias and losses(List).\n",
    "    return w, b, losses"
   ],
   "metadata": {
    "collapsed": false
   }
  },
  {
   "cell_type": "code",
   "execution_count": 24,
   "outputs": [],
   "source": [
    "# Predicting function.\n",
    "def predict(X, w, b, degrees):\n",
    "\n",
    "    # X --> Input.\n",
    "    # w --> weights (parameter).\n",
    "    # b --> bias (parameter).\n",
    "    #degrees --> A list, We add X^(value) feature to the input\n",
    "    #             where value is one of the values in the list.\n",
    "\n",
    "    # Adding degrees to input X.\n",
    "    x1 = x_transform(X, degrees)\n",
    "\n",
    "    # Returning predictions.\n",
    "    return np.dot(x1, w) + b"
   ],
   "metadata": {
    "collapsed": false
   }
  },
  {
   "cell_type": "code",
   "execution_count": 30,
   "outputs": [
    {
     "data": {
      "text/plain": "<Figure size 576x432 with 1 Axes>",
      "image/png": "[encoded data removed]"
     },
     "metadata": {
      "needs_background": "light"
     },
     "output_type": "display_data"
    }
   ],
   "source": [
    "w, b, l = train(X_train, Y_train, bs=100, degrees=[20], epochs=1000,\n",
    "                lr=0.01)\n",
    "# Plotting\n",
    "fig = plt.figure(figsize=(8,6))\n",
    "plt.plot(X_train, Y_train, 'y.')\n",
    "plt.plot(X_train, predict(X_train, w, b, [2]), 'r.')\n",
    "plt.legend([\"Data\", \"Polynomial predictions\"])\n",
    "plt.xlabel('X - Input')\n",
    "plt.ylabel('y - target / true')\n",
    "plt.title('Polynomial Regression')\n",
    "plt.show()"
   ],
   "metadata": {
    "collapsed": false
   }
  }
 ],
 "metadata": {
  "kernelspec": {
   "display_name": "Python 3",
   "language": "python",
   "name": "python3"
  },
  "language_info": {
   "codemirror_mode": {
    "name": "ipython",
    "version": 2
   },
   "file_extension": ".py",
   "mimetype": "text/x-python",
   "name": "python",
   "nbconvert_exporter": "python",
   "pygments_lexer": "ipython2",
   "version": "2.7.6"
  }
 },
 "nbformat": 4,
 "nbformat_minor": 0
}
