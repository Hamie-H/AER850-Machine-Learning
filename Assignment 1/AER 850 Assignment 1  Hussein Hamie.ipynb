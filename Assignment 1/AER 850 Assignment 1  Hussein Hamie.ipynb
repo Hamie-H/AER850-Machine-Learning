{
 "cells": [
  {
   "cell_type": "markdown",
   "source": [
    "Hussein Hamie\n",
    "500876254\n",
    "AER 850 Machine Learning\n",
    "Assignment 1"
   ],
   "metadata": {
    "collapsed": false
   }
  },
  {
   "cell_type": "markdown",
   "source": [
    "We Begin by importing the initial libraries for plotting and data preprocessing"
   ],
   "metadata": {
    "collapsed": false
   }
  },
  {
   "cell_type": "code",
   "execution_count": 1,
   "metadata": {
    "collapsed": true
   },
   "outputs": [],
   "source": [
    "# Importing of libraries\n",
    "import numpy as np\n",
    "import matplotlib.pyplot as plt\n",
    "import pandas as pd"
   ]
  },
  {
   "cell_type": "code",
   "execution_count": 2,
   "outputs": [],
   "source": [
    "# Function used to import datasets. The function saves X and Y Columns as Numpy arrays and reshapes them in 2D form.\n",
    "\n",
    "def getdata(filename):\n",
    "    with open (filename,'r') as csvfile:\n",
    "        csvData = pd.read_csv(csvfile,header=None)\n",
    "        #Ordering the data properly\n",
    "        csvData.sort_values(csvData.columns[0],axis=0,inplace=True)\n",
    "        print(csvData)\n",
    "        X = csvData.iloc[:,[0]].to_numpy()\n",
    "        Y = csvData.iloc[:,[1]].to_numpy()\n",
    "        print(X)\n",
    "\n",
    "\n",
    "    return X , Y"
   ],
   "metadata": {
    "collapsed": false
   }
  },
  {
   "cell_type": "code",
   "execution_count": 3,
   "outputs": [
    {
     "name": "stdout",
     "output_type": "stream",
     "text": [
      "           0          1   2\n",
      "31 -0.988770  -6.497606 NaN\n",
      "23 -0.913618  -5.110324 NaN\n",
      "32 -0.895417 -11.813734 NaN\n",
      "3  -0.860443  -3.800950 NaN\n",
      "2  -0.819361  -9.321124 NaN\n",
      "37 -0.789856  -5.923314 NaN\n",
      "11 -0.780743 -10.921434 NaN\n",
      "49 -0.758574 -10.768728 NaN\n",
      "24 -0.698714 -11.098282 NaN\n",
      "6  -0.627858  -6.709161 NaN\n",
      "39 -0.618156  -3.162021 NaN\n",
      "48 -0.499098   2.344141 NaN\n",
      "12 -0.488943 -10.539182 NaN\n",
      "13 -0.458625  -3.586555 NaN\n",
      "8  -0.427498  -3.513751 NaN\n",
      "35 -0.414263  -6.832803 NaN\n",
      "0  -0.335254  -2.953401 NaN\n",
      "33 -0.300863   1.659256 NaN\n",
      "17 -0.283256  -6.700334 NaN\n",
      "44 -0.215044  -0.091022 NaN\n",
      "21 -0.184763  -5.287415 NaN\n",
      "18 -0.097897  -5.630283 NaN\n",
      "40 -0.076718  -2.946125 NaN\n",
      "27 -0.073859  -6.728111 NaN\n",
      "5  -0.007729  -3.405798 NaN\n",
      "1   0.122457  -5.836786 NaN\n",
      "26  0.191167  -0.802697 NaN\n",
      "36  0.194400  -4.639020 NaN\n",
      "20  0.232616   0.908847 NaN\n",
      "41  0.239000  -3.462470 NaN\n",
      "9   0.352504  -3.073887 NaN\n",
      "28  0.411078   5.010641 NaN\n",
      "19  0.419778   1.357183 NaN\n",
      "4   0.422628   2.100318 NaN\n",
      "22  0.442216  -4.053938 NaN\n",
      "10  0.448782  -0.086280 NaN\n",
      "45  0.487100  -1.543500 NaN\n",
      "47  0.489850  -2.612768 NaN\n",
      "16  0.510209  -1.062215 NaN\n",
      "14  0.537657   4.146147 NaN\n",
      "29  0.545287   3.394163 NaN\n",
      "43  0.589648  -2.032139 NaN\n",
      "38  0.682420   6.311527 NaN\n",
      "46  0.736577   1.196569 NaN\n",
      "15  0.765605  12.400646 NaN\n",
      "30  0.805265   8.834610 NaN\n",
      "25  0.850369  14.750550 NaN\n",
      "42  0.851343  13.294453 NaN\n",
      "34  0.940507  24.387666 NaN\n",
      "7   0.962901  21.857697 NaN\n",
      "[[-0.98877038]\n",
      " [-0.91361822]\n",
      " [-0.89541665]\n",
      " [-0.86044258]\n",
      " [-0.81936111]\n",
      " [-0.78985558]\n",
      " [-0.78074251]\n",
      " [-0.75857406]\n",
      " [-0.69871372]\n",
      " [-0.62785813]\n",
      " [-0.61815645]\n",
      " [-0.49909789]\n",
      " [-0.48894309]\n",
      " [-0.45862458]\n",
      " [-0.42749769]\n",
      " [-0.41426313]\n",
      " [-0.33525412]\n",
      " [-0.30086343]\n",
      " [-0.28325561]\n",
      " [-0.21504383]\n",
      " [-0.18476321]\n",
      " [-0.09789742]\n",
      " [-0.0767185 ]\n",
      " [-0.07385912]\n",
      " [-0.00772939]\n",
      " [ 0.12245686]\n",
      " [ 0.19116681]\n",
      " [ 0.19440008]\n",
      " [ 0.23261559]\n",
      " [ 0.23899974]\n",
      " [ 0.352504  ]\n",
      " [ 0.41107763]\n",
      " [ 0.41977846]\n",
      " [ 0.4226282 ]\n",
      " [ 0.44221619]\n",
      " [ 0.4487821 ]\n",
      " [ 0.48709971]\n",
      " [ 0.48984987]\n",
      " [ 0.51020888]\n",
      " [ 0.53765747]\n",
      " [ 0.54528658]\n",
      " [ 0.58964767]\n",
      " [ 0.68241967]\n",
      " [ 0.73657744]\n",
      " [ 0.76560508]\n",
      " [ 0.80526481]\n",
      " [ 0.85036915]\n",
      " [ 0.85134319]\n",
      " [ 0.94050747]\n",
      " [ 0.96290148]]\n",
      "           0          1   2\n",
      "49 -0.996609  -3.634394 NaN\n",
      "21 -0.941586  -5.081398 NaN\n",
      "26 -0.859347  -8.850104 NaN\n",
      "2  -0.840629  -8.738649 NaN\n",
      "17 -0.703750  -7.793225 NaN\n",
      "32 -0.666065   1.743793 NaN\n",
      "34 -0.665856  -4.401262 NaN\n",
      "4  -0.649508  -8.683412 NaN\n",
      "7  -0.630483  -9.123956 NaN\n",
      "43 -0.587559  -9.639093 NaN\n",
      "27 -0.466332  -8.592288 NaN\n",
      "25 -0.421273  -5.141306 NaN\n",
      "47 -0.409602  -1.142509 NaN\n",
      "41 -0.350821  -6.755272 NaN\n",
      "20 -0.320002  -8.173860 NaN\n",
      "16 -0.178890  -2.974118 NaN\n",
      "45 -0.165273  -8.946116 NaN\n",
      "13 -0.100119  -3.569031 NaN\n",
      "30  0.010311   0.044069 NaN\n",
      "39  0.039217 -10.171068 NaN\n",
      "9   0.112558   1.355612 NaN\n",
      "35  0.158440  -1.199532 NaN\n",
      "6   0.169529  -0.948941 NaN\n",
      "19  0.192102   3.787604 NaN\n",
      "42  0.193524  -4.538199 NaN\n",
      "10  0.214892  -3.435872 NaN\n",
      "28  0.225672   1.528809 NaN\n",
      "3   0.227433  -0.274344 NaN\n",
      "36  0.262260  -1.570944 NaN\n",
      "18  0.287535   0.780482 NaN\n",
      "31  0.449532  -1.966416 NaN\n",
      "24  0.481661   2.901607 NaN\n",
      "8   0.502356  -2.932632 NaN\n",
      "0   0.516220   1.609671 NaN\n",
      "40  0.526354  -3.392671 NaN\n",
      "44  0.527891   1.690879 NaN\n",
      "23  0.539157   0.603698 NaN\n",
      "14  0.580340   4.471606 NaN\n",
      "29  0.613427   2.153045 NaN\n",
      "5   0.621241   5.992031 NaN\n",
      "46  0.630637   5.166466 NaN\n",
      "15  0.693586   3.226638 NaN\n",
      "11  0.752052   8.934892 NaN\n",
      "33  0.758337  11.295813 NaN\n",
      "48  0.759965   2.599910 NaN\n",
      "12  0.792287   7.285758 NaN\n",
      "1   0.850085  14.814006 NaN\n",
      "38  0.901502  16.951294 NaN\n",
      "37  0.949064  28.894208 NaN\n",
      "22  0.960034  23.901121 NaN\n",
      "[[-0.99660856]\n",
      " [-0.94158596]\n",
      " [-0.85934723]\n",
      " [-0.84062853]\n",
      " [-0.70375026]\n",
      " [-0.6660651 ]\n",
      " [-0.66585625]\n",
      " [-0.64950787]\n",
      " [-0.63048262]\n",
      " [-0.58755885]\n",
      " [-0.46633182]\n",
      " [-0.42127254]\n",
      " [-0.40960217]\n",
      " [-0.35082096]\n",
      " [-0.32000178]\n",
      " [-0.17889038]\n",
      " [-0.16527322]\n",
      " [-0.10011854]\n",
      " [ 0.01031131]\n",
      " [ 0.03921702]\n",
      " [ 0.11255756]\n",
      " [ 0.15844014]\n",
      " [ 0.16952897]\n",
      " [ 0.19210233]\n",
      " [ 0.19352372]\n",
      " [ 0.21489179]\n",
      " [ 0.22567214]\n",
      " [ 0.22743278]\n",
      " [ 0.2622595 ]\n",
      " [ 0.28753492]\n",
      " [ 0.44953152]\n",
      " [ 0.48166127]\n",
      " [ 0.5023563 ]\n",
      " [ 0.5162197 ]\n",
      " [ 0.52635446]\n",
      " [ 0.52789123]\n",
      " [ 0.53915652]\n",
      " [ 0.58034048]\n",
      " [ 0.61342708]\n",
      " [ 0.62124064]\n",
      " [ 0.63063677]\n",
      " [ 0.69358605]\n",
      " [ 0.75205234]\n",
      " [ 0.75833655]\n",
      " [ 0.75996463]\n",
      " [ 0.79228717]\n",
      " [ 0.85008454]\n",
      " [ 0.90150229]\n",
      " [ 0.94906406]\n",
      " [ 0.96003431]]\n",
      "           0          1   2\n",
      "8  -0.826734 -12.434995 NaN\n",
      "47 -0.593553  -9.815751 NaN\n",
      "35 -0.513811  -6.298612 NaN\n",
      "5  -0.417379 -10.291039 NaN\n",
      "32 -0.412672  -6.713309 NaN\n",
      "45 -0.350355  -8.006364 NaN\n",
      "17 -0.332779  -6.261843 NaN\n",
      "31 -0.297469  -2.225543 NaN\n",
      "29 -0.283350  -5.115603 NaN\n",
      "2  -0.276443  -1.173417 NaN\n",
      "34 -0.270891  -4.221321 NaN\n",
      "26 -0.226726  -5.572627 NaN\n",
      "11 -0.130481  -2.826175 NaN\n",
      "15 -0.021611   1.523798 NaN\n",
      "21 -0.019025  -2.616053 NaN\n",
      "24  0.008051  -4.337644 NaN\n",
      "12  0.039818  -3.448377 NaN\n",
      "7   0.090793   2.117246 NaN\n",
      "44  0.126727  -5.054424 NaN\n",
      "0   0.194241   1.931291 NaN\n",
      "9   0.198556  -3.435139 NaN\n",
      "14  0.201353  -7.708750 NaN\n",
      "40  0.242700  -2.490999 NaN\n",
      "43  0.268549  -2.260150 NaN\n",
      "39  0.363792  -4.147203 NaN\n",
      "38  0.380197  -2.149345 NaN\n",
      "36  0.451851   2.255881 NaN\n",
      "10  0.455626   7.966086 NaN\n",
      "13  0.501953   3.890701 NaN\n",
      "41  0.591231   2.101817 NaN\n",
      "19  0.603972   2.061442 NaN\n",
      "22  0.606194   1.989538 NaN\n",
      "4   0.648838   8.063874 NaN\n",
      "49  0.669931   2.355485 NaN\n",
      "46  0.673689   3.795542 NaN\n",
      "27  0.723675   9.463336 NaN\n",
      "18  0.728418  12.382296 NaN\n",
      "30  0.738777   2.366637 NaN\n",
      "16  0.745997   4.975951 NaN\n",
      "25  0.751665   4.807365 NaN\n",
      "37  0.796959   7.272225 NaN\n",
      "33  0.810021  15.987605 NaN\n",
      "23  0.823261  12.761621 NaN\n",
      "28  0.829025  13.198672 NaN\n",
      "6   0.837022  16.281449 NaN\n",
      "48  0.858813  13.822045 NaN\n",
      "1   0.878633  17.545736 NaN\n",
      "20  0.926081  20.218714 NaN\n",
      "42  0.964447  27.042527 NaN\n",
      "3   0.996344  32.234868 NaN\n",
      "[[-0.82673422]\n",
      " [-0.59355252]\n",
      " [-0.51381114]\n",
      " [-0.41737872]\n",
      " [-0.41267194]\n",
      " [-0.35035539]\n",
      " [-0.33277866]\n",
      " [-0.29746937]\n",
      " [-0.2833504 ]\n",
      " [-0.27644327]\n",
      " [-0.27089093]\n",
      " [-0.22672629]\n",
      " [-0.13048063]\n",
      " [-0.02161097]\n",
      " [-0.01902548]\n",
      " [ 0.00805057]\n",
      " [ 0.03981815]\n",
      " [ 0.0907928 ]\n",
      " [ 0.1267275 ]\n",
      " [ 0.19424086]\n",
      " [ 0.19855604]\n",
      " [ 0.20135322]\n",
      " [ 0.24270033]\n",
      " [ 0.26854866]\n",
      " [ 0.36379238]\n",
      " [ 0.38019704]\n",
      " [ 0.45185059]\n",
      " [ 0.45562638]\n",
      " [ 0.5019532 ]\n",
      " [ 0.59123092]\n",
      " [ 0.60397227]\n",
      " [ 0.60619403]\n",
      " [ 0.64883779]\n",
      " [ 0.6699307 ]\n",
      " [ 0.6736887 ]\n",
      " [ 0.72367515]\n",
      " [ 0.72841845]\n",
      " [ 0.73877689]\n",
      " [ 0.74599671]\n",
      " [ 0.75166504]\n",
      " [ 0.79695869]\n",
      " [ 0.81002118]\n",
      " [ 0.82326132]\n",
      " [ 0.82902536]\n",
      " [ 0.83702198]\n",
      " [ 0.85881287]\n",
      " [ 0.87863322]\n",
      " [ 0.92608099]\n",
      " [ 0.96444715]\n",
      " [ 0.99634449]]\n"
     ]
    }
   ],
   "source": [
    "#Importing all datasets using get data function and assigning X and Y respectively\n",
    "X_test, Y_test = getdata(\"Dataset1/Dataset_1_test.csv\")\n",
    "X_train, Y_train = getdata(\"Dataset1/Dataset_1_train.csv\")\n",
    "X_valid, Y_valid = getdata(\"Dataset1/Dataset_1_valid.csv\")"
   ],
   "metadata": {
    "collapsed": false
   }
  },
  {
   "cell_type": "markdown",
   "source": [
    "Now we plot all three data sets so we can visualize the distribution we are trying to plot"
   ],
   "metadata": {
    "collapsed": false
   }
  },
  {
   "cell_type": "code",
   "execution_count": 4,
   "outputs": [
    {
     "data": {
      "text/plain": "<Figure size 432x288 with 1 Axes>",
      "image/png": "[encoded data removed]"
     },
     "metadata": {
      "needs_background": "light"
     },
     "output_type": "display_data"
    },
    {
     "data": {
      "text/plain": "<Figure size 432x288 with 1 Axes>",
      "image/png": "[encoded data removed]"
     },
     "metadata": {
      "needs_background": "light"
     },
     "output_type": "display_data"
    },
    {
     "data": {
      "text/plain": "<Figure size 432x288 with 1 Axes>",
      "image/png": "[encoded data removed]"
     },
     "metadata": {
      "needs_background": "light"
     },
     "output_type": "display_data"
    }
   ],
   "source": [
    "plt.scatter(X_train,Y_train)\n",
    "plt.title('Training Data')\n",
    "plt.show()\n",
    "plt.scatter(X_valid,Y_valid)\n",
    "plt.title('Validation Data')\n",
    "plt.show()\n",
    "plt.scatter(X_test,Y_test)\n",
    "plt.title('Testing Data')\n",
    "plt.show()"
   ],
   "metadata": {
    "collapsed": false
   }
  },
  {
   "cell_type": "code",
   "execution_count": 15,
   "outputs": [],
   "source": [
    "from sklearn.metrics import mean_squared_error"
   ],
   "metadata": {
    "collapsed": false
   }
  },
  {
   "cell_type": "code",
   "execution_count": 49,
   "outputs": [
    {
     "data": {
      "text/plain": "<Figure size 432x288 with 1 Axes>",
      "image/png": "[encoded data removed]"
     },
     "metadata": {
      "needs_background": "light"
     },
     "output_type": "display_data"
    },
    {
     "name": "stdout",
     "output_type": "stream",
     "text": [
      "The MSE of the Training data is: 6.4746800650064085\n"
     ]
    },
    {
     "data": {
      "text/plain": "<Figure size 432x288 with 1 Axes>",
      "image/png": "[encoded data removed]"
     },
     "metadata": {
      "needs_background": "light"
     },
     "output_type": "display_data"
    },
    {
     "name": "stdout",
     "output_type": "stream",
     "text": [
      "The MSE of the Validation data is: 1418.5143679259286\n"
     ]
    },
    {
     "data": {
      "text/plain": "array([-3.90688268e+00, -1.54838532e+01,  1.55838699e+02,  1.90871415e+03,\n       -7.74398740e+03, -3.57222246e+04,  1.27165132e+05,  2.89950110e+05,\n       -1.00166864e+06, -1.25374406e+06,  4.38838678e+06,  3.15925023e+06,\n       -1.14577838e+07, -4.78462776e+06,  1.82422715e+07,  4.28259629e+06,\n       -1.73641577e+07, -2.08243121e+06,  9.07759173e+06,  4.22697493e+05,\n       -2.00438306e+06])"
     },
     "execution_count": 49,
     "metadata": {},
     "output_type": "execute_result"
    }
   ],
   "source": [
    "polyfitmodel = np.polynomial.Polynomial.fit(X_train.flatten(),Y_train.flatten(),20)\n",
    "\n",
    "plt.scatter(X_train,Y_train, label = \"Training BLUE\")\n",
    "plt.scatter(X_train, polyfitmodel(X_train), color = \"r\",label = \"Predicted RED\")\n",
    "plt.plot(X_train,polyfitmodel(X_train),color = \"r\")\n",
    "plt.title(\"Training data vs Predicted\")\n",
    "plt.legend()\n",
    "\n",
    "plt.show()\n",
    "print(\"The MSE of the Training data is:\",mean_squared_error(Y_train,polyfitmodel(X_train)))\n",
    "\n",
    "\n",
    "\n",
    "plt.scatter(X_valid,Y_valid, label = \"Validation BLUE\")\n",
    "plt.scatter(X_valid, polyfitmodel(X_valid), color = \"r\",label = \"Predicted RED\")\n",
    "plt.plot(X_valid,polyfitmodel(X_valid),color = \"r\")\n",
    "plt.title(\"Validation data vs Predicted\")\n",
    "plt.legend()\n",
    "\n",
    "plt.show()\n",
    "print(\"The MSE of the Validation data is:\",mean_squared_error(Y_valid,polyfitmodel(X_valid)))\n",
    "polyfitmodel.convert().coef"
   ],
   "metadata": {
    "collapsed": false
   }
  },
  {
   "cell_type": "code",
   "execution_count": 51,
   "outputs": [],
   "source": [
    "import numpy as np\n",
    "import pandas as pd\n",
    "from sklearn.model_selection import train_test_split\n",
    "from sklearn.linear_model import LinearRegression,Ridge\n",
    "from sklearn.preprocessing import PolynomialFeatures\n",
    "from sklearn.metrics import r2_score,mean_squared_error\n",
    "import matplotlib.pyplot as plt\n",
    "import seaborn as sns\n",
    "from sklearn.model_selection import KFold"
   ],
   "metadata": {
    "collapsed": false
   }
  },
  {
   "cell_type": "code",
   "execution_count": 52,
   "outputs": [],
   "source": [
    "def poly_features(df,deg):\n",
    "    df_poly = df.copy()\n",
    "    if(len(df_poly.shape)==1):\n",
    "        df_poly=np.array(df_poly).reshape(-1,1)\n",
    "    if(len(df)==1):\n",
    "        df_poly=np.array(df_poly).reshape(1,-1)\n",
    "    poly = PolynomialFeatures(deg)\n",
    "    df_poly=poly.fit_transform(df_poly)\n",
    "    return(df_poly)\n",
    "\n"
   ],
   "metadata": {
    "collapsed": false
   }
  },
  {
   "cell_type": "code",
   "execution_count": 56,
   "outputs": [
    {
     "data": {
      "text/plain": "array([[ 0.00000000e+00, -1.54838532e+01,  1.55838699e+02,\n         1.90871415e+03, -7.74398740e+03, -3.57222246e+04,\n         1.27165132e+05,  2.89950110e+05, -1.00166864e+06,\n        -1.25374406e+06,  4.38838678e+06,  3.15925024e+06,\n        -1.14577838e+07, -4.78462777e+06,  1.82422715e+07,\n         4.28259629e+06, -1.73641577e+07, -2.08243121e+06,\n         9.07759174e+06,  4.22697493e+05, -2.00438306e+06]])"
     },
     "execution_count": 56,
     "metadata": {},
     "output_type": "execute_result"
    }
   ],
   "source": [
    "clf=LinearRegression()\n",
    "\n",
    "check=poly_features(X_train,20)\n",
    "model=clf.fit(check,Y_train)\n",
    "model.coef_"
   ],
   "metadata": {
    "collapsed": false
   }
  },
  {
   "cell_type": "code",
   "execution_count": 68,
   "outputs": [
    {
     "name": "stdout",
     "output_type": "stream",
     "text": [
      "[[ -3.63300327]\n",
      " [ -5.09430301]\n",
      " [ -8.57796031]\n",
      " [ -9.09737498]\n",
      " [ -5.96456675]\n",
      " [ -4.46681095]\n",
      " [ -4.47108698]\n",
      " [ -5.19357803]\n",
      " [ -6.79700558]\n",
      " [-11.16530033]\n",
      " [ -7.40687656]\n",
      " [ -4.34719778]\n",
      " [ -4.04929893]\n",
      " [ -5.67509157]\n",
      " [ -7.59995071]\n",
      " [ -6.69325285]\n",
      " [ -5.85348526]\n",
      " [ -3.03842869]\n",
      " [ -4.04797115]\n",
      " [ -4.18044653]\n",
      " [ -2.54483624]\n",
      " [ -0.99562317]\n",
      " [ -0.70468904]\n",
      " [ -0.292627  ]\n",
      " [ -0.27560189]\n",
      " [ -0.15102534]\n",
      " [ -0.17782287]\n",
      " [ -0.18743843]\n",
      " [ -0.61276777]\n",
      " [ -1.06817893]\n",
      " [ -0.91147777]\n",
      " [ -0.4544564 ]\n",
      " [ -0.11406634]\n",
      " [  0.16179756]\n",
      " [  0.39869658]\n",
      " [  0.43764065]\n",
      " [  0.74989654]\n",
      " [  2.31549983]\n",
      " [  3.88622246]\n",
      " [  4.24845476]\n",
      " [  4.65859947]\n",
      " [  6.01981336]\n",
      " [  6.4026354 ]\n",
      " [  6.63235373]\n",
      " [  6.70227566]\n",
      " [  9.01718886]\n",
      " [ 14.52011565]\n",
      " [ 16.93151853]\n",
      " [ 28.96760891]\n",
      " [ 23.85568599]]\n",
      "The MSE of the Training data is: 6.474680065029511\n"
     ]
    },
    {
     "data": {
      "text/plain": "<Figure size 432x288 with 1 Axes>",
      "image/png": "[encoded data removed]"
     },
     "metadata": {
      "needs_background": "light"
     },
     "output_type": "display_data"
    }
   ],
   "source": [
    "plt.scatter(X_train,Y_train)\n",
    "ypred = model.predict(poly_features(X_train,20))\n",
    "print(ypred)\n",
    "plt.plot(X_train,ypred)\n",
    "print(\"The MSE of the Training data is:\",mean_squared_error(Y_train,ypred))\n"
   ],
   "metadata": {
    "collapsed": false
   }
  },
  {
   "cell_type": "code",
   "execution_count": null,
   "outputs": [],
   "source": [
    "\n"
   ],
   "metadata": {
    "collapsed": false
   }
  }
 ],
 "metadata": {
  "kernelspec": {
   "display_name": "Python 3",
   "language": "python",
   "name": "python3"
  },
  "language_info": {
   "codemirror_mode": {
    "name": "ipython",
    "version": 2
   },
   "file_extension": ".py",
   "mimetype": "text/x-python",
   "name": "python",
   "nbconvert_exporter": "python",
   "pygments_lexer": "ipython2",
   "version": "2.7.6"
  }
 },
 "nbformat": 4,
 "nbformat_minor": 0
}
